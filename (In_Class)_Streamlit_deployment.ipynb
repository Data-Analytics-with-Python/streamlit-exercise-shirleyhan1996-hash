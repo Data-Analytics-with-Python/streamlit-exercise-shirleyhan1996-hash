{
  "nbformat": 4,
  "nbformat_minor": 0,
  "metadata": {
    "colab": {
      "provenance": [],
      "include_colab_link": true
    },
    "kernelspec": {
      "name": "python3",
      "display_name": "Python 3"
    },
    "language_info": {
      "name": "python"
    }
  },
  "cells": [
    {
      "cell_type": "markdown",
      "metadata": {
        "id": "view-in-github",
        "colab_type": "text"
      },
      "source": [
        "<a href=\"https://colab.research.google.com/github/Data-Analytics-with-Python/streamlit-exercise-shirleyhan1996-hash/blob/main/(In_Class)_Streamlit_deployment.ipynb\" target=\"_parent\"><img src=\"https://colab.research.google.com/assets/colab-badge.svg\" alt=\"Open In Colab\"/></a>"
      ]
    },
    {
      "cell_type": "markdown",
      "source": [
        "# Creating a Streamlit App"
      ],
      "metadata": {
        "id": "7Km3-YM2kRwQ"
      }
    },
    {
      "cell_type": "markdown",
      "source": [
        "## Step 1: Create the main script file app.py"
      ],
      "metadata": {
        "id": "sIKeDTzbF-EX"
      }
    },
    {
      "cell_type": "code",
      "source": [
        "%%writefile app.py\n",
        "\n",
        "import pandas as pd\n",
        "import plotly.express as px\n",
        "import streamlit as st\n",
        "\n",
        "st.set_page_config(page_title=\"Medals Visualization\",\n",
        "                   layout=\"wide\")\n",
        "st.title(\"Medals Visualization\")\n",
        "\n",
        "#下拉菜单\n",
        "medal=st.selectbox(\"Medal Type\",['gold','silver','bronze'])\n",
        "\n",
        "#勾选\n",
        "show_bar = st.checkbox(\"Show Bar Chart\",value=True)\n",
        "show_pie= st.checkbox(\"Show Pie Chart\",value=True)\n",
        "\n",
        "#2-col structure\n",
        "col1,col2 = st.columns(2)\n",
        "\n",
        "#load rge model wide dataset\n",
        "df=px.data.medals_wide()\n",
        "if show_bar:\n",
        "  fig_bar=px.bar(\n",
        "      df,\n",
        "      x='nation',\n",
        "      y=f\"{medal}'\n",
        "      title= \"Medals count({medal})\"\n",
        "  )\n",
        "\n",
        "  fig_bar.update_layout(\n",
        "      title_x=0.5,\n",
        "      xaxis_title=\"Country\",\n",
        "      yaxis_title=\"Count\",\n",
        "      width=500,\n",
        "      height=500\n",
        "  )\n",
        "  col1.plotly_chart(fig_bar,use_container_width=True)\n",
        "\n",
        "if show_pie:\n",
        "  fig_pie=px.pie(\n",
        "      df,\n",
        "      names=\"Country\",\n",
        "      values=f\"{medal}\",\n",
        "      title=f\"Medals count({medal})\"\n",
        "\n",
        "  fig_pie.update_layout(\n",
        "      title_x=0.5,\n",
        "      width=500,\n",
        "      height=500\n",
        "  )\n",
        "  col2.plotly_chart(fig_pie,use_container_width=True)"
      ],
      "metadata": {
        "id": "wAU0mogSkUP1",
        "colab": {
          "base_uri": "https://localhost:8080/"
        },
        "outputId": "ee9a3e51-f1b1-498c-9d7c-60c0f52ed192"
      },
      "execution_count": 3,
      "outputs": [
        {
          "output_type": "stream",
          "name": "stdout",
          "text": [
            "Overwriting app.py\n"
          ]
        }
      ]
    },
    {
      "cell_type": "markdown",
      "source": [
        "## Step 2: Create the requirements.txt file"
      ],
      "metadata": {
        "id": "mGT9MEjLGFiM"
      }
    },
    {
      "cell_type": "code",
      "source": [
        "%%writefile requirements.txt\n",
        "streamlit>=1.36\n",
        "plotly>=5.20\n",
        "pandas>=2.0"
      ],
      "metadata": {
        "id": "1VDmmeSflmRd"
      },
      "execution_count": 3,
      "outputs": []
    },
    {
      "cell_type": "markdown",
      "source": [
        "## Step 3: Create a GitHub Repo that contains those files"
      ],
      "metadata": {
        "id": "a4Q96WgelvqE"
      }
    },
    {
      "cell_type": "markdown",
      "source": [
        "## Step 4: Deploy to https://share.streamlit.io/. (Create an account using your GitHub account)"
      ],
      "metadata": {
        "id": "pKMDhOt9luzV"
      }
    }
  ]
}